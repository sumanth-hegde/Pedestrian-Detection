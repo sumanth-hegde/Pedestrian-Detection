{
 "cells": [
  {
   "cell_type": "code",
   "execution_count": 32,
   "metadata": {},
   "outputs": [],
   "source": [
    "import cv2 \n",
    "import imutils \n",
    "   \n",
    "\n",
    "hog = cv2.HOGDescriptor() \n",
    "hog.setSVMDetector(cv2.HOGDescriptor_getDefaultPeopleDetector()) \n",
    "   \n",
    "cap = cv2.VideoCapture('6.mp4') \n",
    "   \n",
    "while cap.isOpened(): \n",
    "    ret, image = cap.read() \n",
    "    if ret: \n",
    "        image = imutils.resize(image,  width=min(800, image.shape[1])) \n",
    "   \n",
    "        (regions, _) = hog.detectMultiScale(image, winStride=(4, 4), padding=(4, 4), scale=1.05) \n",
    "\n",
    "        for (x, y, w, h) in regions: \n",
    "            cv2.rectangle(image, (x, y), (x + w, y + h),  (0, 0, 255), 2) \n",
    "   \n",
    "\n",
    "        cv2.imshow(\"Pedestrains\", image) \n",
    "    \n",
    "        if cv2.waitKey(1) == 27:\n",
    "            break\n",
    "    else: \n",
    "        break\n",
    "   \n",
    "cv2.destroyAllWindows() "
   ]
  },
  {
   "cell_type": "code",
   "execution_count": null,
   "metadata": {},
   "outputs": [],
   "source": []
  }
 ],
 "metadata": {
  "kernelspec": {
   "display_name": "Python 3",
   "language": "python",
   "name": "python3"
  },
  "language_info": {
   "codemirror_mode": {
    "name": "ipython",
    "version": 3
   },
   "file_extension": ".py",
   "mimetype": "text/x-python",
   "name": "python",
   "nbconvert_exporter": "python",
   "pygments_lexer": "ipython3",
   "version": "3.7.6"
  }
 },
 "nbformat": 4,
 "nbformat_minor": 4
}
